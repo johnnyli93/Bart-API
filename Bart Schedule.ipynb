{
 "cells": [
  {
   "cell_type": "code",
   "execution_count": 10,
   "metadata": {
    "collapsed": false
   },
   "outputs": [
    {
     "name": "stdout",
     "output_type": "stream",
     "text": [
      "What's todays date? Please input in MM-DD-YYYY format: 9-10-2017\n",
      "    12th 12th St. Oakland City Center\n",
      "0   16th        16th St. Mission (SF)\n",
      "1   19th             19th St. Oakland\n",
      "2   24th        24th St. Mission (SF)\n",
      "3   ashb             Ashby (Berkeley)\n",
      "4   balb             Balboa Park (SF)\n",
      "5   bayf       Bay Fair (San Leandro)\n",
      "6   cast                Castro Valley\n",
      "7   civc            Civic Center (SF)\n",
      "8   cols                     Coliseum\n",
      "9   colm                        Colma\n",
      "10  conc                      Concord\n",
      "11  daly                    Daly City\n",
      "12  dbrk            Downtown Berkeley\n",
      "13  dubl            Dublin/Pleasanton\n",
      "14  deln         El Cerrito del Norte\n",
      "15  plza             El Cerrito Plaza\n",
      "16  embr             Embarcadero (SF)\n",
      "17  frmt                      Fremont\n",
      "18  ftvl          Fruitvale (Oakland)\n",
      "19  glen               Glen Park (SF)\n",
      "20  hayw                      Hayward\n",
      "21  lafy                    Lafayette\n",
      "22  lake       Lake Merritt (Oakland)\n",
      "23  mcar          MacArthur (Oakland)\n",
      "24  mlbr                     Millbrae\n",
      "25  mont          Montgomery St. (SF)\n",
      "26  nbrk               North Berkeley\n",
      "27  ncon       North Concord/Martinez\n",
      "28  oakl        Oakland Int'l Airport\n",
      "29  orin                       Orinda\n",
      "30  pitt          Pittsburg/Bay Point\n",
      "31  phil                Pleasant Hill\n",
      "32  powl              Powell St. (SF)\n",
      "33  rich                     Richmond\n",
      "34  rock          Rockridge (Oakland)\n",
      "35  sbrn                    San Bruno\n",
      "36  sfia  San Francisco Int'l Airport\n",
      "37  sanl                  San Leandro\n",
      "38  shay                South Hayward\n",
      "39  ssan          South San Francisco\n",
      "40  ucty                   Union City\n",
      "41  warm   Warm Springs/South Fremont\n",
      "42  wcrk                 Walnut Creek\n",
      "43  wdub                  West Dublin\n",
      "44  woak                 West Oakland\n",
      "Where are you coming from? Input the 4-character abbreviation bayf\n",
      "Where do you want to go? Input the 4-character abbreviation embr\n",
      "North or southbound? (n or s)n\n"
     ]
    }
   ],
   "source": [
    "#        **** ALL CREDIT GOES TO BART FOR PROVIDING A FREE API****\n",
    "\n",
    "#bringing in the libraries\n",
    "import json\n",
    "import requests as req\n",
    "from datetime import datetime, date\n",
    "import pandas as pd\n",
    "\n",
    "#bringing in a csv that contains all the stations and the abbreviations.\n",
    "#MUST BE IN THE SAME DIRECTORY (LOCATION) AS THIS CODE. so if this ipynb file is in your desktop\n",
    "#make sure the csv is in the same place\n",
    "\n",
    "bart_reader = pd.read_csv(\"bartstations.csv\")\n",
    "api = \"ZWZD-5B96-9H2T-DWE9\"\n",
    "\n",
    "#asks user for date\n",
    "today = input(\"What's todays date? Please input in MM-DD-YYYY format: \")\n",
    "#converts into datetime format\n",
    "todayformatted = datetime.strptime(today, \"%m-%d-%Y\").strftime(\"%m/%d/%Y\")\n",
    "#shows users the abbreviated name of each station and their respective station name\n",
    "print(bart_reader)\n",
    "\n",
    "#asks user origin and destination\n",
    "origin = input(\"Where are you coming from? Input the 4-character abbreviation \")\n",
    "dest = input(\"Where do you want to go? Input the 4-character abbreviation \" )\n",
    "direction = input(\"North or southbound? (n or s)\")\n",
    "\n",
    "#creates a url for api that is used to get the price of the trip\n",
    "url = \"http://api.bart.gov/api/sched.aspx?cmd=fare&orig=%s&dest=%s&date=%s&json=y&key=%s\" % (origin, dest, todayformatted, api)\n",
    "#creates a url for api that is used to get the schedule of the train(s) the user will take\n",
    "url2 = \"http://ord3-dev.sfbart.org/api/etd.aspx?cmd=etd&orig=%s&dir=%s&json=y&key=%s\" % (origin, direction, api)"
   ]
  },
  {
   "cell_type": "code",
   "execution_count": 11,
   "metadata": {
    "collapsed": false
   },
   "outputs": [
    {
     "name": "stdout",
     "output_type": "stream",
     "text": [
      "The time now is 2017-09-05 20:23:51.956449\n",
      "The one-way trip will cost you $4.75.\n",
      "\n",
      "The next 9-car Daly City train comes in 16 minutes.\n",
      "The next 9-car Daly City train comes in 36 minutes.\n",
      "The next 4-car Daly City train comes in 56 minutes.\n",
      "The next 5-car Richmond train comes in 10 minutes.\n",
      "The next 8-car Richmond train comes in 31 minutes.\n",
      "The next 8-car Richmond train comes in 49 minutes.\n"
     ]
    }
   ],
   "source": [
    "#requesting the api thing\n",
    "get_url = req.get(url).json()\n",
    "get_url2 = req.get(url2).json()\n",
    "price = get_url[\"root\"][\"trip\"][\"fare\"]\n",
    "\n",
    "#shows user the time and price of trip\n",
    "print(\"The time now is \"+ str(datetime.now()))\n",
    "print(\"The one-way trip will cost you $\" + str(price) + \".\\n\")\n",
    "\n",
    "#shows the next three trains for all trains that will take user to destination\n",
    "for x in range(len(get_url2[\"root\"][\"station\"][0][\"etd\"])):\n",
    "    train_name = get_url2[\"root\"][\"station\"][0][\"etd\"][x][\"destination\"]\n",
    "    for y in range(len(get_url2[\"root\"][\"station\"][0][\"etd\"][x][\"estimate\"])):\n",
    "        train_time = get_url2[\"root\"][\"station\"][0][\"etd\"][x][\"estimate\"][y][\"minutes\"]\n",
    "        train_length = get_url2[\"root\"][\"station\"][0][\"etd\"][x][\"estimate\"][y][\"length\"]\n",
    "        if train_time == \"Leaving\":\n",
    "            print(\"The \" + train_name + \" train is already leaving.\")\n",
    "        elif int(train_time) < 5:\n",
    "            print(\"The next \"+ train_length+ \"-car \" + train_name + \" train comes in \" + train_time + \" minutes. RUN!!!\") \n",
    "        else:\n",
    "            print(\"The next \"+ train_length+ \"-car \" + train_name + \" train comes in \" + train_time + \" minutes.\")"
   ]
  },
  {
   "cell_type": "code",
   "execution_count": 12,
   "metadata": {
    "collapsed": false
   },
   "outputs": [
    {
     "data": {
      "text/plain": [
       "'http://ord3-dev.sfbart.org/api/etd.aspx?cmd=etd&orig=bayf&dir=n&json=y&key=ZWZD-5B96-9H2T-DWE9'"
      ]
     },
     "execution_count": 12,
     "metadata": {},
     "output_type": "execute_result"
    }
   ],
   "source": [
    "#in case you want to check the api in json format. copy and paste the url without the quotes\n",
    "url2"
   ]
  },
  {
   "cell_type": "code",
   "execution_count": null,
   "metadata": {
    "collapsed": true
   },
   "outputs": [],
   "source": []
  }
 ],
 "metadata": {
  "kernelspec": {
   "display_name": "Python 3",
   "language": "python",
   "name": "python3"
  },
  "language_info": {
   "codemirror_mode": {
    "name": "ipython",
    "version": 3
   },
   "file_extension": ".py",
   "mimetype": "text/x-python",
   "name": "python",
   "nbconvert_exporter": "python",
   "pygments_lexer": "ipython3",
   "version": "3.6.0"
  }
 },
 "nbformat": 4,
 "nbformat_minor": 2
}
